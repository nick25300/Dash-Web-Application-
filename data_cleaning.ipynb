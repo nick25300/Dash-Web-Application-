{
 "cells": [
  {
   "cell_type": "code",
   "execution_count": 168,
   "metadata": {},
   "outputs": [],
   "source": [
    "import pandas as pd\n",
    "import numpy as np\n",
    "import seaborn as sns\n",
    "import plotly\n",
    "import plotly.graph_objs as go\n",
    "import plotly.offline as pyo\n",
    "from sklearn.impute import SimpleImputer\n",
    "from collections import Counter\n",
    "import warnings\n",
    "warnings.filterwarnings('ignore')"
   ]
  },
  {
   "cell_type": "code",
   "execution_count": 169,
   "metadata": {},
   "outputs": [
    {
     "name": "stdout",
     "output_type": "stream",
     "text": [
      "<class 'pandas.core.frame.DataFrame'>\n",
      "RangeIndex: 43776 entries, 0 to 43775\n",
      "Data columns (total 6 columns):\n",
      "country        43776 non-null object\n",
      "year           43776 non-null int64\n",
      "sex            43776 non-null object\n",
      "age            43776 non-null object\n",
      "suicides_no    41520 non-null float64\n",
      "population     38316 non-null float64\n",
      "dtypes: float64(2), int64(1), object(3)\n",
      "memory usage: 2.0+ MB\n"
     ]
    }
   ],
   "source": [
    "#Reading The dataset\n",
    "\n",
    "df = pd.read_csv('who_suicide_statistics.csv')\n",
    "df.info()"
   ]
  },
  {
   "cell_type": "code",
   "execution_count": 171,
   "metadata": {},
   "outputs": [],
   "source": [
    "df2 = []\n",
    "\n",
    "for i in set(df['country']):\n",
    "    #Create truth table for country\n",
    "    country = df['country']==i\n",
    "    \n",
    "    for j in set(df['age']):\n",
    "        #create truth table for age\n",
    "        age = df['age']==j\n",
    "        \n",
    "        for k in set(df['sex']):\n",
    "            gender = df['sex']==k\n",
    "            DF = df[country & age & gender]\n",
    "            imp = SimpleImputer(missing_values=np.nan, strategy='mean')\n",
    "            DF.loc[:,['suicides_no']]=np.around(imp.fit_transform(np.array(DF['suicides_no']).reshape(-1,1)),decimals=0)\n",
    "            if np.around(imp.fit_transform(np.array(DF['population']).reshape(-1,1)),decimals=0).size!=0:\n",
    "                DF.loc[:,['population']]=np.around(imp.fit_transform(np.array(DF['population']).reshape(-1,1)),decimals=0)\n",
    "            \n",
    "            \n",
    "            df2.append(DF) \n",
    "            \n",
    "df3 = pd.concat(df2)\n",
    "df3.index = range(0,len(df3))"
   ]
  },
  {
   "cell_type": "code",
   "execution_count": 182,
   "metadata": {},
   "outputs": [],
   "source": [
    "df3.to_csv('clean_data.csv')"
   ]
  }
 ],
 "metadata": {
  "kernelspec": {
   "display_name": "Python 3",
   "language": "python",
   "name": "python3"
  },
  "language_info": {
   "codemirror_mode": {
    "name": "ipython",
    "version": 3
   },
   "file_extension": ".py",
   "mimetype": "text/x-python",
   "name": "python",
   "nbconvert_exporter": "python",
   "pygments_lexer": "ipython3",
   "version": "3.7.1"
  }
 },
 "nbformat": 4,
 "nbformat_minor": 2
}
